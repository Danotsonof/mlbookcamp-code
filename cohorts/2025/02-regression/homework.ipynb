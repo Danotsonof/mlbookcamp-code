{
 "cells": [
  {
   "cell_type": "code",
   "execution_count": 112,
   "id": "e7fe884c",
   "metadata": {},
   "outputs": [],
   "source": [
    "import numpy as np\n",
    "import pandas as pd"
   ]
  },
  {
   "cell_type": "code",
   "execution_count": 113,
   "id": "5addd86b",
   "metadata": {},
   "outputs": [],
   "source": [
    "df = pd.read_csv(\"car_fuel_efficiency.csv\")"
   ]
  },
  {
   "cell_type": "code",
   "execution_count": 114,
   "id": "7c841c1d",
   "metadata": {},
   "outputs": [],
   "source": [
    "data = df[['engine_displacement',\n",
    "'horsepower',\n",
    "'vehicle_weight',\n",
    "'model_year',\n",
    "'fuel_efficiency_mpg']]"
   ]
  },
  {
   "cell_type": "code",
   "execution_count": 21,
   "id": "a25cf15b",
   "metadata": {},
   "outputs": [
    {
     "data": {
      "text/html": [
       "<div>\n",
       "<style scoped>\n",
       "    .dataframe tbody tr th:only-of-type {\n",
       "        vertical-align: middle;\n",
       "    }\n",
       "\n",
       "    .dataframe tbody tr th {\n",
       "        vertical-align: top;\n",
       "    }\n",
       "\n",
       "    .dataframe thead th {\n",
       "        text-align: right;\n",
       "    }\n",
       "</style>\n",
       "<table border=\"1\" class=\"dataframe\">\n",
       "  <thead>\n",
       "    <tr style=\"text-align: right;\">\n",
       "      <th></th>\n",
       "      <th>engine_displacement</th>\n",
       "      <th>horsepower</th>\n",
       "      <th>vehicle_weight</th>\n",
       "      <th>model_year</th>\n",
       "      <th>fuel_efficiency_mpg</th>\n",
       "    </tr>\n",
       "  </thead>\n",
       "  <tbody>\n",
       "    <tr>\n",
       "      <th>count</th>\n",
       "      <td>9704.000000</td>\n",
       "      <td>8996.000000</td>\n",
       "      <td>9704.000000</td>\n",
       "      <td>9704.000000</td>\n",
       "      <td>9704.000000</td>\n",
       "    </tr>\n",
       "    <tr>\n",
       "      <th>mean</th>\n",
       "      <td>199.708368</td>\n",
       "      <td>149.657292</td>\n",
       "      <td>3001.280993</td>\n",
       "      <td>2011.484027</td>\n",
       "      <td>14.985243</td>\n",
       "    </tr>\n",
       "    <tr>\n",
       "      <th>std</th>\n",
       "      <td>49.455319</td>\n",
       "      <td>29.879555</td>\n",
       "      <td>497.894860</td>\n",
       "      <td>6.659808</td>\n",
       "      <td>2.556468</td>\n",
       "    </tr>\n",
       "    <tr>\n",
       "      <th>min</th>\n",
       "      <td>10.000000</td>\n",
       "      <td>37.000000</td>\n",
       "      <td>952.681761</td>\n",
       "      <td>2000.000000</td>\n",
       "      <td>6.200971</td>\n",
       "    </tr>\n",
       "    <tr>\n",
       "      <th>25%</th>\n",
       "      <td>170.000000</td>\n",
       "      <td>130.000000</td>\n",
       "      <td>2666.248985</td>\n",
       "      <td>2006.000000</td>\n",
       "      <td>13.267459</td>\n",
       "    </tr>\n",
       "    <tr>\n",
       "      <th>50%</th>\n",
       "      <td>200.000000</td>\n",
       "      <td>149.000000</td>\n",
       "      <td>2993.226296</td>\n",
       "      <td>2012.000000</td>\n",
       "      <td>15.006037</td>\n",
       "    </tr>\n",
       "    <tr>\n",
       "      <th>75%</th>\n",
       "      <td>230.000000</td>\n",
       "      <td>170.000000</td>\n",
       "      <td>3334.957039</td>\n",
       "      <td>2017.000000</td>\n",
       "      <td>16.707965</td>\n",
       "    </tr>\n",
       "    <tr>\n",
       "      <th>max</th>\n",
       "      <td>380.000000</td>\n",
       "      <td>271.000000</td>\n",
       "      <td>4739.077089</td>\n",
       "      <td>2023.000000</td>\n",
       "      <td>25.967222</td>\n",
       "    </tr>\n",
       "  </tbody>\n",
       "</table>\n",
       "</div>"
      ],
      "text/plain": [
       "       engine_displacement   horsepower  vehicle_weight   model_year  \\\n",
       "count          9704.000000  8996.000000     9704.000000  9704.000000   \n",
       "mean            199.708368   149.657292     3001.280993  2011.484027   \n",
       "std              49.455319    29.879555      497.894860     6.659808   \n",
       "min              10.000000    37.000000      952.681761  2000.000000   \n",
       "25%             170.000000   130.000000     2666.248985  2006.000000   \n",
       "50%             200.000000   149.000000     2993.226296  2012.000000   \n",
       "75%             230.000000   170.000000     3334.957039  2017.000000   \n",
       "max             380.000000   271.000000     4739.077089  2023.000000   \n",
       "\n",
       "       fuel_efficiency_mpg  \n",
       "count          9704.000000  \n",
       "mean             14.985243  \n",
       "std               2.556468  \n",
       "min               6.200971  \n",
       "25%              13.267459  \n",
       "50%              15.006037  \n",
       "75%              16.707965  \n",
       "max              25.967222  "
      ]
     },
     "execution_count": 21,
     "metadata": {},
     "output_type": "execute_result"
    }
   ],
   "source": [
    "data.describe()"
   ]
  },
  {
   "cell_type": "code",
   "execution_count": 22,
   "id": "1d351b16",
   "metadata": {},
   "outputs": [
    {
     "name": "stdout",
     "output_type": "stream",
     "text": [
      "<class 'pandas.core.frame.DataFrame'>\n",
      "RangeIndex: 9704 entries, 0 to 9703\n",
      "Data columns (total 5 columns):\n",
      " #   Column               Non-Null Count  Dtype  \n",
      "---  ------               --------------  -----  \n",
      " 0   engine_displacement  9704 non-null   int64  \n",
      " 1   horsepower           8996 non-null   float64\n",
      " 2   vehicle_weight       9704 non-null   float64\n",
      " 3   model_year           9704 non-null   int64  \n",
      " 4   fuel_efficiency_mpg  9704 non-null   float64\n",
      "dtypes: float64(3), int64(2)\n",
      "memory usage: 379.2 KB\n"
     ]
    }
   ],
   "source": [
    "data.info()"
   ]
  },
  {
   "cell_type": "code",
   "execution_count": 23,
   "id": "7d7d1eaf",
   "metadata": {},
   "outputs": [
    {
     "data": {
      "text/plain": [
       "<Axes: >"
      ]
     },
     "execution_count": 23,
     "metadata": {},
     "output_type": "execute_result"
    },
    {
     "data": {
      "image/png": "[encoded data removed]",
      "text/plain": [
       "<Figure size 640x480 with 1 Axes>"
      ]
     },
     "metadata": {},
     "output_type": "display_data"
    }
   ],
   "source": [
    "# does fuel_efficiency_mpg have a long tail?\n",
    "data.fuel_efficiency_mpg.hist()"
   ]
  },
  {
   "cell_type": "markdown",
   "id": "c6b72c2b",
   "metadata": {},
   "source": [
    "### Question 2"
   ]
  },
  {
   "cell_type": "code",
   "execution_count": 24,
   "id": "00141dd8",
   "metadata": {},
   "outputs": [
    {
     "data": {
      "text/plain": [
       "149.0"
      ]
     },
     "execution_count": 24,
     "metadata": {},
     "output_type": "execute_result"
    }
   ],
   "source": [
    "#median for horsepower\n",
    "data.horsepower.median()"
   ]
  },
  {
   "cell_type": "code",
   "execution_count": 31,
   "id": "50eb5c19",
   "metadata": {},
   "outputs": [
    {
     "data": {
      "text/plain": [
       "0    152.0\n",
       "Name: horsepower, dtype: float64"
      ]
     },
     "execution_count": 31,
     "metadata": {},
     "output_type": "execute_result"
    }
   ],
   "source": [
    "data.horsepower.mode()"
   ]
  },
  {
   "cell_type": "code",
   "execution_count": 32,
   "id": "124bba3e",
   "metadata": {},
   "outputs": [
    {
     "data": {
      "text/plain": [
       "horsepower\n",
       "152.0    142\n",
       "145.0    141\n",
       "151.0    134\n",
       "148.0    130\n",
       "141.0    130\n",
       "        ... \n",
       "46.0       1\n",
       "43.0       1\n",
       "53.0       1\n",
       "66.0       1\n",
       "61.0       1\n",
       "Name: count, Length: 192, dtype: int64"
      ]
     },
     "execution_count": 32,
     "metadata": {},
     "output_type": "execute_result"
    }
   ],
   "source": [
    "data.horsepower.value_counts()"
   ]
  },
  {
   "cell_type": "markdown",
   "id": "17075b52",
   "metadata": {},
   "source": [
    "### Question 1"
   ]
  },
  {
   "cell_type": "code",
   "execution_count": 144,
   "id": "b99e8931",
   "metadata": {},
   "outputs": [
    {
     "name": "stdout",
     "output_type": "stream",
     "text": [
      "<class 'pandas.core.frame.DataFrame'>\n",
      "RangeIndex: 9704 entries, 0 to 9703\n",
      "Data columns (total 5 columns):\n",
      " #   Column               Non-Null Count  Dtype  \n",
      "---  ------               --------------  -----  \n",
      " 0   engine_displacement  9704 non-null   int64  \n",
      " 1   horsepower           8996 non-null   float64\n",
      " 2   vehicle_weight       9704 non-null   float64\n",
      " 3   model_year           9704 non-null   int64  \n",
      " 4   fuel_efficiency_mpg  9704 non-null   float64\n",
      "dtypes: float64(3), int64(2)\n",
      "memory usage: 379.2 KB\n"
     ]
    }
   ],
   "source": [
    "data.info()"
   ]
  },
  {
   "cell_type": "code",
   "execution_count": 145,
   "id": "20ae1b99",
   "metadata": {},
   "outputs": [],
   "source": [
    "n = len(data)\n",
    "\n",
    "n_val = int(n * 0.2)\n",
    "n_test = int(n * 0.2)\n",
    "n_train = n - n_val - n_test"
   ]
  },
  {
   "cell_type": "code",
   "execution_count": 146,
   "id": "87b699f1",
   "metadata": {},
   "outputs": [],
   "source": [
    "idx = np.arange(n)\n",
    "np.random.seed(42)\n",
    "np.random.shuffle(idx)"
   ]
  },
  {
   "cell_type": "markdown",
   "id": "8b3134b6",
   "metadata": {},
   "source": [
    "### Question 3"
   ]
  },
  {
   "cell_type": "markdown",
   "id": "392c13ee",
   "metadata": {},
   "source": [
    "### Training a linear regression model\n",
    "\n",
    "`df1` - missing data of horsepower column filled with mean\n",
    "\n",
    "`df2` - missing data of horsepower column filled with zeros"
   ]
  },
  {
   "cell_type": "code",
   "execution_count": 117,
   "id": "f75c55c5",
   "metadata": {},
   "outputs": [],
   "source": [
    "df2 = data.copy()\n",
    "df2.horsepower = data.horsepower.fillna(0)\n",
    "\n",
    "df1 = data.copy()\n",
    "df1.horsepower = data.horsepower.fillna(data.horsepower.mean())"
   ]
  },
  {
   "cell_type": "code",
   "execution_count": 65,
   "id": "a15bdd8a",
   "metadata": {},
   "outputs": [
    {
     "name": "stdout",
     "output_type": "stream",
     "text": [
      "<class 'pandas.core.frame.DataFrame'>\n",
      "RangeIndex: 9704 entries, 0 to 9703\n",
      "Data columns (total 5 columns):\n",
      " #   Column               Non-Null Count  Dtype  \n",
      "---  ------               --------------  -----  \n",
      " 0   engine_displacement  9704 non-null   int64  \n",
      " 1   horsepower           9704 non-null   float64\n",
      " 2   vehicle_weight       9704 non-null   float64\n",
      " 3   model_year           9704 non-null   int64  \n",
      " 4   fuel_efficiency_mpg  9704 non-null   float64\n",
      "dtypes: float64(3), int64(2)\n",
      "memory usage: 379.2 KB\n",
      "<class 'pandas.core.frame.DataFrame'>\n",
      "RangeIndex: 9704 entries, 0 to 9703\n",
      "Data columns (total 5 columns):\n",
      " #   Column               Non-Null Count  Dtype  \n",
      "---  ------               --------------  -----  \n",
      " 0   engine_displacement  9704 non-null   int64  \n",
      " 1   horsepower           9704 non-null   float64\n",
      " 2   vehicle_weight       9704 non-null   float64\n",
      " 3   model_year           9704 non-null   int64  \n",
      " 4   fuel_efficiency_mpg  9704 non-null   float64\n",
      "dtypes: float64(3), int64(2)\n",
      "memory usage: 379.2 KB\n"
     ]
    },
    {
     "data": {
      "text/plain": [
       "(None, None)"
      ]
     },
     "execution_count": 65,
     "metadata": {},
     "output_type": "execute_result"
    }
   ],
   "source": [
    "df2.info(), df1.info()"
   ]
  },
  {
   "cell_type": "code",
   "execution_count": 118,
   "id": "611f3f36",
   "metadata": {},
   "outputs": [],
   "source": [
    "df2_train = df2.iloc[idx[:n_train]]\n",
    "df2_val = df2.iloc[idx[n_train:n_train+n_val]]\n",
    "df2_test = df2.iloc[idx[n_train+n_val:]]\n",
    "\n",
    "df1_train = df1.iloc[idx[:n_train]]\n",
    "df1_val = df1.iloc[idx[n_train:n_train+n_val]]\n",
    "df1_test = df1.iloc[idx[n_train+n_val:]]"
   ]
  },
  {
   "cell_type": "code",
   "execution_count": 119,
   "id": "516fb5c7",
   "metadata": {},
   "outputs": [],
   "source": [
    "y1_train = df1_train.fuel_efficiency_mpg.values\n",
    "y1_val = df1_val.fuel_efficiency_mpg.values\n",
    "y1_test = df1_test.fuel_efficiency_mpg.values\n",
    "\n",
    "y2_train = df2_train.fuel_efficiency_mpg.values\n",
    "y2_val = df2_val.fuel_efficiency_mpg.values\n",
    "y2_test = df2_test.fuel_efficiency_mpg.values"
   ]
  },
  {
   "cell_type": "code",
   "execution_count": 120,
   "id": "8ff1e245",
   "metadata": {},
   "outputs": [],
   "source": [
    "del df1_train['fuel_efficiency_mpg']\n",
    "del df1_val['fuel_efficiency_mpg']\n",
    "del df1_test['fuel_efficiency_mpg']\n",
    "\n",
    "del df2_train['fuel_efficiency_mpg']\n",
    "del df2_val['fuel_efficiency_mpg']\n",
    "del df2_test['fuel_efficiency_mpg']"
   ]
  },
  {
   "cell_type": "code",
   "execution_count": 122,
   "id": "4a1288cb",
   "metadata": {},
   "outputs": [],
   "source": [
    "def train_linear_regression(X, y):\n",
    "    ones = np.ones(X.shape[0])\n",
    "    X = np.column_stack([ones, X])\n",
    "\n",
    "    XTX = X.T.dot(X)\n",
    "    XTX_inv = np.linalg.inv(XTX)\n",
    "    w_full = XTX_inv.dot(X.T).dot(y)\n",
    "    \n",
    "    return w_full[0], w_full[1:]"
   ]
  },
  {
   "cell_type": "code",
   "execution_count": 123,
   "id": "94d63145",
   "metadata": {},
   "outputs": [],
   "source": [
    "w0_1, w_1 = train_linear_regression(df1_train, y1_train)\n",
    "y1_pred = w0_1 + df1_train.dot(w_1)"
   ]
  },
  {
   "cell_type": "code",
   "execution_count": 124,
   "id": "fdcd5957",
   "metadata": {},
   "outputs": [],
   "source": [
    "w0_2, w_2 = train_linear_regression(df2_train, y2_train)\n",
    "y2_pred = w0_2 + df2_train.dot(w_2)"
   ]
  },
  {
   "cell_type": "code",
   "execution_count": 72,
   "id": "3210ebac",
   "metadata": {},
   "outputs": [
    {
     "name": "stdout",
     "output_type": "stream",
     "text": [
      "Requirement already satisfied: seaborn in c:\\users\\daniel.otulagun\\anaconda3\\envs\\homl3\\lib\\site-packages (0.13.2)\n",
      "Requirement already satisfied: numpy!=1.24.0,>=1.20 in c:\\users\\daniel.otulagun\\anaconda3\\envs\\homl3\\lib\\site-packages (from seaborn) (1.26.4)\n",
      "Requirement already satisfied: pandas>=1.2 in c:\\users\\daniel.otulagun\\anaconda3\\envs\\homl3\\lib\\site-packages (from seaborn) (2.1.4)\n",
      "Requirement already satisfied: matplotlib!=3.6.1,>=3.4 in c:\\users\\daniel.otulagun\\anaconda3\\envs\\homl3\\lib\\site-packages (from seaborn) (3.8.4)\n",
      "Requirement already satisfied: contourpy>=1.0.1 in c:\\users\\daniel.otulagun\\anaconda3\\envs\\homl3\\lib\\site-packages (from matplotlib!=3.6.1,>=3.4->seaborn) (1.3.2)\n",
      "Requirement already satisfied: cycler>=0.10 in c:\\users\\daniel.otulagun\\anaconda3\\envs\\homl3\\lib\\site-packages (from matplotlib!=3.6.1,>=3.4->seaborn) (0.12.1)\n",
      "Requirement already satisfied: fonttools>=4.22.0 in c:\\users\\daniel.otulagun\\anaconda3\\envs\\homl3\\lib\\site-packages (from matplotlib!=3.6.1,>=3.4->seaborn) (4.59.0)\n",
      "Requirement already satisfied: kiwisolver>=1.3.1 in c:\\users\\daniel.otulagun\\anaconda3\\envs\\homl3\\lib\\site-packages (from matplotlib!=3.6.1,>=3.4->seaborn) (1.4.8)\n",
      "Requirement already satisfied: packaging>=20.0 in c:\\users\\daniel.otulagun\\anaconda3\\envs\\homl3\\lib\\site-packages (from matplotlib!=3.6.1,>=3.4->seaborn) (25.0)\n",
      "Requirement already satisfied: pillow>=8 in c:\\users\\daniel.otulagun\\anaconda3\\envs\\homl3\\lib\\site-packages (from matplotlib!=3.6.1,>=3.4->seaborn) (10.1.0)\n",
      "Requirement already satisfied: pyparsing>=2.3.1 in c:\\users\\daniel.otulagun\\anaconda3\\envs\\homl3\\lib\\site-packages (from matplotlib!=3.6.1,>=3.4->seaborn) (3.2.3)\n",
      "Requirement already satisfied: python-dateutil>=2.7 in c:\\users\\daniel.otulagun\\anaconda3\\envs\\homl3\\lib\\site-packages (from matplotlib!=3.6.1,>=3.4->seaborn) (2.9.0.post0)\n",
      "Requirement already satisfied: pytz>=2020.1 in c:\\users\\daniel.otulagun\\anaconda3\\envs\\homl3\\lib\\site-packages (from pandas>=1.2->seaborn) (2025.2)\n",
      "Requirement already satisfied: tzdata>=2022.1 in c:\\users\\daniel.otulagun\\anaconda3\\envs\\homl3\\lib\\site-packages (from pandas>=1.2->seaborn) (2025.2)\n",
      "Requirement already satisfied: six>=1.5 in c:\\users\\daniel.otulagun\\anaconda3\\envs\\homl3\\lib\\site-packages (from python-dateutil>=2.7->matplotlib!=3.6.1,>=3.4->seaborn) (1.17.0)\n",
      "Note: you may need to restart the kernel to use updated packages.\n"
     ]
    }
   ],
   "source": [
    "%pip install seaborn\n",
    "import seaborn as sns\n"
   ]
  },
  {
   "cell_type": "code",
   "execution_count": 125,
   "id": "f3d85f32",
   "metadata": {},
   "outputs": [
    {
     "data": {
      "text/plain": [
       "<Axes: ylabel='Count'>"
      ]
     },
     "execution_count": 125,
     "metadata": {},
     "output_type": "execute_result"
    },
    {
     "data": {
      "image/png": "[encoded data removed]",
      "text/plain": [
       "<Figure size 640x480 with 1 Axes>"
      ]
     },
     "metadata": {},
     "output_type": "display_data"
    }
   ],
   "source": [
    "sns.histplot(y1_pred, color='red', alpha=0.5, bins=50)\n",
    "sns.histplot(y1_train, color='blue', alpha=0.5, bins=50)"
   ]
  },
  {
   "cell_type": "code",
   "execution_count": 126,
   "id": "b2c2e1be",
   "metadata": {},
   "outputs": [
    {
     "data": {
      "text/plain": [
       "<Axes: ylabel='Count'>"
      ]
     },
     "execution_count": 126,
     "metadata": {},
     "output_type": "execute_result"
    },
    {
     "data": {
      "image/png": "[encoded data removed]",
      "text/plain": [
       "<Figure size 640x480 with 1 Axes>"
      ]
     },
     "metadata": {},
     "output_type": "display_data"
    }
   ],
   "source": [
    "sns.histplot(y2_pred, color='red', alpha=0.5, bins=50)\n",
    "sns.histplot(y2_train, color='blue', alpha=0.5, bins=50)"
   ]
  },
  {
   "cell_type": "code",
   "execution_count": 127,
   "id": "cc851c17",
   "metadata": {},
   "outputs": [],
   "source": [
    "def rmse(y, y_pred):\n",
    "    se = (y - y_pred) ** 2\n",
    "    mse = se.mean()\n",
    "    return np.sqrt(mse)"
   ]
  },
  {
   "cell_type": "code",
   "execution_count": 128,
   "id": "2daad277",
   "metadata": {},
   "outputs": [
    {
     "data": {
      "text/plain": [
       "0.4624399551535917"
      ]
     },
     "execution_count": 128,
     "metadata": {},
     "output_type": "execute_result"
    }
   ],
   "source": [
    "rmse(y1_train, y1_pred)"
   ]
  },
  {
   "cell_type": "code",
   "execution_count": 129,
   "id": "22d56be5",
   "metadata": {},
   "outputs": [
    {
     "data": {
      "text/plain": [
       "0.5202614265099076"
      ]
     },
     "execution_count": 129,
     "metadata": {},
     "output_type": "execute_result"
    }
   ],
   "source": [
    "rmse(y2_train, y2_pred)"
   ]
  },
  {
   "cell_type": "code",
   "execution_count": 130,
   "id": "5b11a1f6",
   "metadata": {},
   "outputs": [
    {
     "data": {
      "text/plain": [
       "0.46"
      ]
     },
     "execution_count": 130,
     "metadata": {},
     "output_type": "execute_result"
    }
   ],
   "source": [
    "y1_pred = w0_1 + df1_val.dot(w_1)\n",
    "round(rmse(y1_val, y1_pred), 2)"
   ]
  },
  {
   "cell_type": "code",
   "execution_count": 131,
   "id": "02a4a187",
   "metadata": {},
   "outputs": [
    {
     "data": {
      "text/plain": [
       "0.52"
      ]
     },
     "execution_count": 131,
     "metadata": {},
     "output_type": "execute_result"
    }
   ],
   "source": [
    "y2_pred = w0_2 + df2_val.dot(w_2)\n",
    "round(rmse(y2_val, y2_pred), 2)"
   ]
  },
  {
   "cell_type": "markdown",
   "id": "21808d73",
   "metadata": {},
   "source": [
    "### Question 4"
   ]
  },
  {
   "cell_type": "code",
   "execution_count": 133,
   "id": "d59bb4c5",
   "metadata": {},
   "outputs": [],
   "source": [
    "def train_linear_regression_reg(X, y, r=0.001):\n",
    "    ones = np.ones(X.shape[0])\n",
    "    X = np.column_stack([ones, X])\n",
    "\n",
    "    XTX = X.T.dot(X)\n",
    "    XTX = XTX + r * np.eye(XTX.shape[0])\n",
    "\n",
    "    XTX_inv = np.linalg.inv(XTX)\n",
    "    w_full = XTX_inv.dot(X.T).dot(y)\n",
    "    \n",
    "    return w_full[0], w_full[1:]"
   ]
  },
  {
   "cell_type": "code",
   "execution_count": 134,
   "id": "9e714a12",
   "metadata": {},
   "outputs": [
    {
     "name": "stdout",
     "output_type": "stream",
     "text": [
      "0 28.827365473464873 0.5173782638837146\n",
      "0.01 24.92683841940565 0.5171115525763144\n",
      "0.1 11.239661084728656 0.5187525130702301\n",
      "1 1.7315979411505915 0.5222348802092954\n",
      "5 0.3638075020491346 0.5228916092823572\n",
      "10 0.18306246621984135 0.5229812979636587\n",
      "100 0.01841801730697718 0.5230636233819927\n"
     ]
    }
   ],
   "source": [
    "for r in [0, 0.01, 0.1, 1, 5, 10, 100]:\n",
    "    w0_2, w_2 = train_linear_regression_reg(df2_train, y2_train, r=r)\n",
    "\n",
    "    y2_pred = w0_2 + df2_val.dot(w_2)\n",
    "    score = rmse(y2_val, y2_pred)\n",
    "    \n",
    "    print(r, w0_2, score)"
   ]
  },
  {
   "cell_type": "markdown",
   "id": "8c2470e8",
   "metadata": {},
   "source": [
    "### Question 5"
   ]
  },
  {
   "cell_type": "code",
   "execution_count": null,
   "id": "e0ba7abc",
   "metadata": {},
   "outputs": [],
   "source": [
    "def calculate_rmse(df, val, test, seed):\n",
    "    df2 = df.copy()\n",
    "    df2 = data.fillna(0)\n",
    "    \n",
    "    n = len(data)\n",
    "    n_val = int(n * val)\n",
    "    n_test = int(n * test)\n",
    "    n_train = n - n_val - n_test\n",
    "    idx = np.arange(n)\n",
    "    \n",
    "    np.random.seed(seed)\n",
    "    np.random.shuffle(idx)\n",
    "    \n",
    "    df2_train = df2.iloc[idx[:n_train]]\n",
    "    df2_val = df2.iloc[idx[n_train:n_train+n_val]]\n",
    "    df2_test = df2.iloc[idx[n_train+n_val:]]\n",
    "    df2_train = df2_train.reset_index(drop=True)\n",
    "    df2_val = df2_val.reset_index(drop=True)\n",
    "    df2_test = df2_test.reset_index(drop=True)\n",
    "    \n",
    "    y2_train = df2_train.fuel_efficiency_mpg.values\n",
    "    y2_val = df2_val.fuel_efficiency_mpg.values\n",
    "    y2_test = df2_test.fuel_efficiency_mpg.values\n",
    "\n",
    "    del df2_train['fuel_efficiency_mpg']\n",
    "    del df2_val['fuel_efficiency_mpg']\n",
    "    del df2_test['fuel_efficiency_mpg']\n",
    "\n",
    "    w0_2, w_2 = train_linear_regression(df2_train, y2_train)\n",
    "\n",
    "    y2_pred = w0_2 + df2_val.dot(w_2)\n",
    "    return rmse(y2_val, y2_pred)"
   ]
  },
  {
   "cell_type": "code",
   "execution_count": 139,
   "id": "0bcda038",
   "metadata": {},
   "outputs": [
    {
     "name": "stdout",
     "output_type": "stream",
     "text": [
      "0.007\n"
     ]
    }
   ],
   "source": [
    "rmse_list = []\n",
    "for seed in [0, 1, 2, 3, 4, 5, 6, 7, 8, 9]:\n",
    "    rmse_score = calculate_rmse(data, 0.2, 0.2, seed)\n",
    "    #rmse_score = rmse(y2_val, y2_pred)\n",
    "\n",
    "    # store the results in a list\n",
    "    #print(rmse_score)\n",
    "    rmse_list.append(round(rmse_score, 3))\n",
    "\n",
    "print(round(np.std(rmse_list), 3))"
   ]
  },
  {
   "cell_type": "markdown",
   "id": "f3874627",
   "metadata": {},
   "source": [
    "### Question 6"
   ]
  },
  {
   "cell_type": "code",
   "execution_count": 143,
   "id": "05e33c78",
   "metadata": {},
   "outputs": [
    {
     "data": {
      "text/plain": [
       "0.5156261299202693"
      ]
     },
     "execution_count": 143,
     "metadata": {},
     "output_type": "execute_result"
    }
   ],
   "source": [
    "df2 = df.copy()\n",
    "df2 = data.fillna(0)\n",
    "\n",
    "n = len(data)\n",
    "n_val = int(n * 0.2)\n",
    "n_test = int(n * 0.2)\n",
    "n_train = n - n_val - n_test\n",
    "idx = np.arange(n)\n",
    "\n",
    "np.random.seed(9)\n",
    "np.random.shuffle(idx)\n",
    "\n",
    "df2_train = df2.iloc[idx[:n_train]]\n",
    "df2_val = df2.iloc[idx[n_train:n_train+n_val]]\n",
    "df2_test = df2.iloc[idx[n_train+n_val:]]\n",
    "df2_train = df2_train.reset_index(drop=True)\n",
    "df2_val = df2_val.reset_index(drop=True)\n",
    "df2_test = df2_test.reset_index(drop=True)\n",
    "\n",
    "y2_train = df2_train.fuel_efficiency_mpg.values\n",
    "y2_val = df2_val.fuel_efficiency_mpg.values\n",
    "y2_test = df2_test.fuel_efficiency_mpg.values\n",
    "\n",
    "del df2_train['fuel_efficiency_mpg']\n",
    "del df2_val['fuel_efficiency_mpg']\n",
    "del df2_test['fuel_efficiency_mpg']\n",
    "\n",
    "df2_train = pd.concat([df2_train, df2_val])\n",
    "y2_train = np.concatenate([y2_train, y2_val])\n",
    "\n",
    "w0_2, w_2 = train_linear_regression_reg(df2_train,\n",
    "                                         y2_train, \n",
    "                                         0.001)\n",
    "y2_pred = w0_2 + df2_test.dot(w_2)\n",
    "rmse(y2_test, y2_pred)"
   ]
  },
  {
   "cell_type": "code",
   "execution_count": null,
   "id": "ede5f5a9",
   "metadata": {},
   "outputs": [],
   "source": []
  }
 ],
 "metadata": {
  "kernelspec": {
   "display_name": "homl3",
   "language": "python",
   "name": "python3"
  },
  "language_info": {
   "codemirror_mode": {
    "name": "ipython",
    "version": 3
   },
   "file_extension": ".py",
   "mimetype": "text/x-python",
   "name": "python",
   "nbconvert_exporter": "python",
   "pygments_lexer": "ipython3",
   "version": "3.10.18"
  }
 },
 "nbformat": 4,
 "nbformat_minor": 5
}
