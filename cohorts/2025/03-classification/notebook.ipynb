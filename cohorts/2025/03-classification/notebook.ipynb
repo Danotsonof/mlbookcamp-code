{
 "cells": [
  {
   "cell_type": "code",
   "execution_count": 6,
   "id": "1357d1f9",
   "metadata": {},
   "outputs": [],
   "source": [
    "import pandas as pd\n",
    "import numpy as np\n",
    "import urllib.request"
   ]
  },
  {
   "cell_type": "code",
   "execution_count": 7,
   "id": "86b3b043",
   "metadata": {},
   "outputs": [
    {
     "data": {
      "text/plain": [
       "('course_lead_scoring.csv', <http.client.HTTPMessage at 0x2c8f68f0f90>)"
      ]
     },
     "execution_count": 7,
     "metadata": {},
     "output_type": "execute_result"
    }
   ],
   "source": [
    "urllib.request.urlretrieve('https://raw.githubusercontent.com/alexeygrigorev/datasets/master/course_lead_scoring.csv', 'course_lead_scoring.csv')"
   ]
  },
  {
   "cell_type": "code",
   "execution_count": 8,
   "id": "c85c9a82",
   "metadata": {},
   "outputs": [],
   "source": [
    "df = pd.read_csv('course_lead_scoring.csv')"
   ]
  },
  {
   "cell_type": "code",
   "execution_count": 10,
   "id": "b7e0c4a0",
   "metadata": {},
   "outputs": [
    {
     "data": {
      "text/plain": [
       "lead_source                  object\n",
       "industry                     object\n",
       "number_of_courses_viewed      int64\n",
       "annual_income               float64\n",
       "employment_status            object\n",
       "location                     object\n",
       "interaction_count             int64\n",
       "lead_score                  float64\n",
       "converted                     int64\n",
       "dtype: object"
      ]
     },
     "execution_count": 10,
     "metadata": {},
     "output_type": "execute_result"
    }
   ],
   "source": [
    "df.dtypes"
   ]
  },
  {
   "cell_type": "code",
   "execution_count": 11,
   "id": "79600f41",
   "metadata": {},
   "outputs": [
    {
     "name": "stdout",
     "output_type": "stream",
     "text": [
      "<class 'pandas.core.frame.DataFrame'>\n",
      "RangeIndex: 1462 entries, 0 to 1461\n",
      "Data columns (total 9 columns):\n",
      " #   Column                    Non-Null Count  Dtype  \n",
      "---  ------                    --------------  -----  \n",
      " 0   lead_source               1334 non-null   object \n",
      " 1   industry                  1328 non-null   object \n",
      " 2   number_of_courses_viewed  1462 non-null   int64  \n",
      " 3   annual_income             1281 non-null   float64\n",
      " 4   employment_status         1362 non-null   object \n",
      " 5   location                  1399 non-null   object \n",
      " 6   interaction_count         1462 non-null   int64  \n",
      " 7   lead_score                1462 non-null   float64\n",
      " 8   converted                 1462 non-null   int64  \n",
      "dtypes: float64(2), int64(3), object(4)\n",
      "memory usage: 102.9+ KB\n"
     ]
    }
   ],
   "source": [
    "df.info()"
   ]
  },
  {
   "cell_type": "code",
   "execution_count": 66,
   "id": "edfe2d9c",
   "metadata": {},
   "outputs": [],
   "source": [
    "categorical = df.select_dtypes(include='object').columns\n",
    "df[categorical] = df[categorical].fillna('n/a')"
   ]
  },
  {
   "cell_type": "code",
   "execution_count": 67,
   "id": "580486fe",
   "metadata": {},
   "outputs": [],
   "source": [
    "numerical = df.select_dtypes(include=['int64', 'float64']).columns\n",
    "df[numerical] = df[numerical].fillna(0) "
   ]
  },
  {
   "cell_type": "code",
   "execution_count": 14,
   "id": "a0757433",
   "metadata": {},
   "outputs": [
    {
     "name": "stdout",
     "output_type": "stream",
     "text": [
      "<class 'pandas.core.frame.DataFrame'>\n",
      "RangeIndex: 1462 entries, 0 to 1461\n",
      "Data columns (total 9 columns):\n",
      " #   Column                    Non-Null Count  Dtype  \n",
      "---  ------                    --------------  -----  \n",
      " 0   lead_source               1462 non-null   object \n",
      " 1   industry                  1462 non-null   object \n",
      " 2   number_of_courses_viewed  1462 non-null   int64  \n",
      " 3   annual_income             1462 non-null   float64\n",
      " 4   employment_status         1462 non-null   object \n",
      " 5   location                  1462 non-null   object \n",
      " 6   interaction_count         1462 non-null   int64  \n",
      " 7   lead_score                1462 non-null   float64\n",
      " 8   converted                 1462 non-null   int64  \n",
      "dtypes: float64(2), int64(3), object(4)\n",
      "memory usage: 102.9+ KB\n"
     ]
    }
   ],
   "source": [
    "df.info()"
   ]
  },
  {
   "cell_type": "code",
   "execution_count": 16,
   "id": "e662f71b",
   "metadata": {},
   "outputs": [
    {
     "data": {
      "text/plain": [
       "industry\n",
       "retail           203\n",
       "finance          200\n",
       "other            198\n",
       "healthcare       187\n",
       "education        187\n",
       "technology       179\n",
       "manufacturing    174\n",
       "N/A              134\n",
       "Name: count, dtype: int64"
      ]
     },
     "execution_count": 16,
     "metadata": {},
     "output_type": "execute_result"
    }
   ],
   "source": [
    "df.industry.value_counts()"
   ]
  },
  {
   "cell_type": "code",
   "execution_count": 17,
   "id": "431dd328",
   "metadata": {},
   "outputs": [
    {
     "data": {
      "text/html": [
       "<div>\n",
       "<style scoped>\n",
       "    .dataframe tbody tr th:only-of-type {\n",
       "        vertical-align: middle;\n",
       "    }\n",
       "\n",
       "    .dataframe tbody tr th {\n",
       "        vertical-align: top;\n",
       "    }\n",
       "\n",
       "    .dataframe thead th {\n",
       "        text-align: right;\n",
       "    }\n",
       "</style>\n",
       "<table border=\"1\" class=\"dataframe\">\n",
       "  <thead>\n",
       "    <tr style=\"text-align: right;\">\n",
       "      <th></th>\n",
       "      <th>lead_source</th>\n",
       "      <th>industry</th>\n",
       "      <th>number_of_courses_viewed</th>\n",
       "      <th>annual_income</th>\n",
       "      <th>employment_status</th>\n",
       "      <th>location</th>\n",
       "      <th>interaction_count</th>\n",
       "      <th>lead_score</th>\n",
       "      <th>converted</th>\n",
       "    </tr>\n",
       "  </thead>\n",
       "  <tbody>\n",
       "    <tr>\n",
       "      <th>0</th>\n",
       "      <td>paid_ads</td>\n",
       "      <td>N/A</td>\n",
       "      <td>1</td>\n",
       "      <td>79450.0</td>\n",
       "      <td>unemployed</td>\n",
       "      <td>south_america</td>\n",
       "      <td>4</td>\n",
       "      <td>0.94</td>\n",
       "      <td>1</td>\n",
       "    </tr>\n",
       "    <tr>\n",
       "      <th>1</th>\n",
       "      <td>social_media</td>\n",
       "      <td>retail</td>\n",
       "      <td>1</td>\n",
       "      <td>46992.0</td>\n",
       "      <td>employed</td>\n",
       "      <td>south_america</td>\n",
       "      <td>1</td>\n",
       "      <td>0.80</td>\n",
       "      <td>0</td>\n",
       "    </tr>\n",
       "    <tr>\n",
       "      <th>2</th>\n",
       "      <td>events</td>\n",
       "      <td>healthcare</td>\n",
       "      <td>5</td>\n",
       "      <td>78796.0</td>\n",
       "      <td>unemployed</td>\n",
       "      <td>australia</td>\n",
       "      <td>3</td>\n",
       "      <td>0.69</td>\n",
       "      <td>1</td>\n",
       "    </tr>\n",
       "    <tr>\n",
       "      <th>3</th>\n",
       "      <td>paid_ads</td>\n",
       "      <td>retail</td>\n",
       "      <td>2</td>\n",
       "      <td>83843.0</td>\n",
       "      <td>N/A</td>\n",
       "      <td>australia</td>\n",
       "      <td>1</td>\n",
       "      <td>0.87</td>\n",
       "      <td>0</td>\n",
       "    </tr>\n",
       "    <tr>\n",
       "      <th>4</th>\n",
       "      <td>referral</td>\n",
       "      <td>education</td>\n",
       "      <td>3</td>\n",
       "      <td>85012.0</td>\n",
       "      <td>self_employed</td>\n",
       "      <td>europe</td>\n",
       "      <td>3</td>\n",
       "      <td>0.62</td>\n",
       "      <td>1</td>\n",
       "    </tr>\n",
       "    <tr>\n",
       "      <th>5</th>\n",
       "      <td>events</td>\n",
       "      <td>manufacturing</td>\n",
       "      <td>1</td>\n",
       "      <td>59904.0</td>\n",
       "      <td>N/A</td>\n",
       "      <td>africa</td>\n",
       "      <td>6</td>\n",
       "      <td>0.83</td>\n",
       "      <td>1</td>\n",
       "    </tr>\n",
       "    <tr>\n",
       "      <th>6</th>\n",
       "      <td>social_media</td>\n",
       "      <td>technology</td>\n",
       "      <td>0</td>\n",
       "      <td>51283.0</td>\n",
       "      <td>N/A</td>\n",
       "      <td>middle_east</td>\n",
       "      <td>2</td>\n",
       "      <td>0.57</td>\n",
       "      <td>0</td>\n",
       "    </tr>\n",
       "    <tr>\n",
       "      <th>7</th>\n",
       "      <td>social_media</td>\n",
       "      <td>N/A</td>\n",
       "      <td>5</td>\n",
       "      <td>62975.0</td>\n",
       "      <td>student</td>\n",
       "      <td>europe</td>\n",
       "      <td>4</td>\n",
       "      <td>0.62</td>\n",
       "      <td>1</td>\n",
       "    </tr>\n",
       "    <tr>\n",
       "      <th>8</th>\n",
       "      <td>referral</td>\n",
       "      <td>healthcare</td>\n",
       "      <td>4</td>\n",
       "      <td>38648.0</td>\n",
       "      <td>unemployed</td>\n",
       "      <td>south_america</td>\n",
       "      <td>2</td>\n",
       "      <td>0.86</td>\n",
       "      <td>1</td>\n",
       "    </tr>\n",
       "    <tr>\n",
       "      <th>9</th>\n",
       "      <td>paid_ads</td>\n",
       "      <td>other</td>\n",
       "      <td>3</td>\n",
       "      <td>59866.0</td>\n",
       "      <td>student</td>\n",
       "      <td>australia</td>\n",
       "      <td>3</td>\n",
       "      <td>0.43</td>\n",
       "      <td>1</td>\n",
       "    </tr>\n",
       "    <tr>\n",
       "      <th>10</th>\n",
       "      <td>paid_ads</td>\n",
       "      <td>retail</td>\n",
       "      <td>2</td>\n",
       "      <td>79276.0</td>\n",
       "      <td>employed</td>\n",
       "      <td>middle_east</td>\n",
       "      <td>2</td>\n",
       "      <td>0.92</td>\n",
       "      <td>1</td>\n",
       "    </tr>\n",
       "    <tr>\n",
       "      <th>11</th>\n",
       "      <td>organic_search</td>\n",
       "      <td>finance</td>\n",
       "      <td>4</td>\n",
       "      <td>80304.0</td>\n",
       "      <td>self_employed</td>\n",
       "      <td>N/A</td>\n",
       "      <td>3</td>\n",
       "      <td>0.97</td>\n",
       "      <td>1</td>\n",
       "    </tr>\n",
       "    <tr>\n",
       "      <th>12</th>\n",
       "      <td>organic_search</td>\n",
       "      <td>N/A</td>\n",
       "      <td>2</td>\n",
       "      <td>55615.0</td>\n",
       "      <td>self_employed</td>\n",
       "      <td>middle_east</td>\n",
       "      <td>6</td>\n",
       "      <td>0.71</td>\n",
       "      <td>1</td>\n",
       "    </tr>\n",
       "    <tr>\n",
       "      <th>13</th>\n",
       "      <td>social_media</td>\n",
       "      <td>other</td>\n",
       "      <td>3</td>\n",
       "      <td>55438.0</td>\n",
       "      <td>N/A</td>\n",
       "      <td>middle_east</td>\n",
       "      <td>1</td>\n",
       "      <td>0.69</td>\n",
       "      <td>0</td>\n",
       "    </tr>\n",
       "    <tr>\n",
       "      <th>14</th>\n",
       "      <td>paid_ads</td>\n",
       "      <td>healthcare</td>\n",
       "      <td>3</td>\n",
       "      <td>0.0</td>\n",
       "      <td>unemployed</td>\n",
       "      <td>middle_east</td>\n",
       "      <td>4</td>\n",
       "      <td>0.75</td>\n",
       "      <td>1</td>\n",
       "    </tr>\n",
       "    <tr>\n",
       "      <th>15</th>\n",
       "      <td>referral</td>\n",
       "      <td>healthcare</td>\n",
       "      <td>2</td>\n",
       "      <td>56004.0</td>\n",
       "      <td>student</td>\n",
       "      <td>middle_east</td>\n",
       "      <td>0</td>\n",
       "      <td>0.64</td>\n",
       "      <td>0</td>\n",
       "    </tr>\n",
       "    <tr>\n",
       "      <th>16</th>\n",
       "      <td>referral</td>\n",
       "      <td>retail</td>\n",
       "      <td>0</td>\n",
       "      <td>54612.0</td>\n",
       "      <td>self_employed</td>\n",
       "      <td>europe</td>\n",
       "      <td>4</td>\n",
       "      <td>0.86</td>\n",
       "      <td>1</td>\n",
       "    </tr>\n",
       "    <tr>\n",
       "      <th>17</th>\n",
       "      <td>referral</td>\n",
       "      <td>other</td>\n",
       "      <td>2</td>\n",
       "      <td>92470.0</td>\n",
       "      <td>unemployed</td>\n",
       "      <td>europe</td>\n",
       "      <td>4</td>\n",
       "      <td>0.74</td>\n",
       "      <td>1</td>\n",
       "    </tr>\n",
       "    <tr>\n",
       "      <th>18</th>\n",
       "      <td>referral</td>\n",
       "      <td>manufacturing</td>\n",
       "      <td>2</td>\n",
       "      <td>74380.0</td>\n",
       "      <td>self_employed</td>\n",
       "      <td>N/A</td>\n",
       "      <td>5</td>\n",
       "      <td>0.51</td>\n",
       "      <td>1</td>\n",
       "    </tr>\n",
       "    <tr>\n",
       "      <th>19</th>\n",
       "      <td>paid_ads</td>\n",
       "      <td>N/A</td>\n",
       "      <td>2</td>\n",
       "      <td>62809.0</td>\n",
       "      <td>self_employed</td>\n",
       "      <td>europe</td>\n",
       "      <td>5</td>\n",
       "      <td>0.33</td>\n",
       "      <td>1</td>\n",
       "    </tr>\n",
       "  </tbody>\n",
       "</table>\n",
       "</div>"
      ],
      "text/plain": [
       "       lead_source       industry  number_of_courses_viewed  annual_income  \\\n",
       "0         paid_ads            N/A                         1        79450.0   \n",
       "1     social_media         retail                         1        46992.0   \n",
       "2           events     healthcare                         5        78796.0   \n",
       "3         paid_ads         retail                         2        83843.0   \n",
       "4         referral      education                         3        85012.0   \n",
       "5           events  manufacturing                         1        59904.0   \n",
       "6     social_media     technology                         0        51283.0   \n",
       "7     social_media            N/A                         5        62975.0   \n",
       "8         referral     healthcare                         4        38648.0   \n",
       "9         paid_ads          other                         3        59866.0   \n",
       "10        paid_ads         retail                         2        79276.0   \n",
       "11  organic_search        finance                         4        80304.0   \n",
       "12  organic_search            N/A                         2        55615.0   \n",
       "13    social_media          other                         3        55438.0   \n",
       "14        paid_ads     healthcare                         3            0.0   \n",
       "15        referral     healthcare                         2        56004.0   \n",
       "16        referral         retail                         0        54612.0   \n",
       "17        referral          other                         2        92470.0   \n",
       "18        referral  manufacturing                         2        74380.0   \n",
       "19        paid_ads            N/A                         2        62809.0   \n",
       "\n",
       "   employment_status       location  interaction_count  lead_score  converted  \n",
       "0         unemployed  south_america                  4        0.94          1  \n",
       "1           employed  south_america                  1        0.80          0  \n",
       "2         unemployed      australia                  3        0.69          1  \n",
       "3                N/A      australia                  1        0.87          0  \n",
       "4      self_employed         europe                  3        0.62          1  \n",
       "5                N/A         africa                  6        0.83          1  \n",
       "6                N/A    middle_east                  2        0.57          0  \n",
       "7            student         europe                  4        0.62          1  \n",
       "8         unemployed  south_america                  2        0.86          1  \n",
       "9            student      australia                  3        0.43          1  \n",
       "10          employed    middle_east                  2        0.92          1  \n",
       "11     self_employed            N/A                  3        0.97          1  \n",
       "12     self_employed    middle_east                  6        0.71          1  \n",
       "13               N/A    middle_east                  1        0.69          0  \n",
       "14        unemployed    middle_east                  4        0.75          1  \n",
       "15           student    middle_east                  0        0.64          0  \n",
       "16     self_employed         europe                  4        0.86          1  \n",
       "17        unemployed         europe                  4        0.74          1  \n",
       "18     self_employed            N/A                  5        0.51          1  \n",
       "19     self_employed         europe                  5        0.33          1  "
      ]
     },
     "execution_count": 17,
     "metadata": {},
     "output_type": "execute_result"
    }
   ],
   "source": [
    "df.head(20)"
   ]
  },
  {
   "cell_type": "code",
   "execution_count": 21,
   "id": "497a615c",
   "metadata": {},
   "outputs": [
    {
     "name": "stdout",
     "output_type": "stream",
     "text": [
      "number_of_courses_viewed    1.000000\n",
      "annual_income               0.009770\n",
      "interaction_count          -0.023565\n",
      "lead_score                 -0.004879\n",
      "converted                   0.435914\n",
      "dtype: float64\n",
      "number_of_courses_viewed    0.009770\n",
      "annual_income               1.000000\n",
      "interaction_count           0.027036\n",
      "lead_score                  0.015610\n",
      "converted                   0.053131\n",
      "dtype: float64\n",
      "number_of_courses_viewed   -0.023565\n",
      "annual_income               0.027036\n",
      "interaction_count           1.000000\n",
      "lead_score                  0.009888\n",
      "converted                   0.374573\n",
      "dtype: float64\n",
      "number_of_courses_viewed   -0.004879\n",
      "annual_income               0.015610\n",
      "interaction_count           0.009888\n",
      "lead_score                  1.000000\n",
      "converted                   0.193673\n",
      "dtype: float64\n",
      "number_of_courses_viewed    0.435914\n",
      "annual_income               0.053131\n",
      "interaction_count           0.374573\n",
      "lead_score                  0.193673\n",
      "converted                   1.000000\n",
      "dtype: float64\n"
     ]
    }
   ],
   "source": [
    "print(df[numerical].corrwith(df[numerical].number_of_courses_viewed))\n",
    "print(df[numerical].corrwith(df[numerical].annual_income))\n",
    "print(df[numerical].corrwith(df[numerical].interaction_count))\n",
    "print(df[numerical].corrwith(df[numerical].lead_score))\n",
    "print(df[numerical].corrwith(df[numerical].converted))"
   ]
  },
  {
   "cell_type": "code",
   "execution_count": 22,
   "id": "ae0d9880",
   "metadata": {},
   "outputs": [],
   "source": [
    "from sklearn.model_selection import train_test_split"
   ]
  },
  {
   "cell_type": "code",
   "execution_count": 68,
   "id": "47f41566",
   "metadata": {},
   "outputs": [],
   "source": [
    "df_full_train, df_test = train_test_split(df, test_size=0.2, random_state=42)\n",
    "df_train, df_val = train_test_split(df_full_train, test_size=0.25, random_state=42)"
   ]
  },
  {
   "cell_type": "code",
   "execution_count": 69,
   "id": "548e375c",
   "metadata": {},
   "outputs": [],
   "source": [
    "df_train = df_train.reset_index(drop=True)\n",
    "df_val = df_val.reset_index(drop=True)\n",
    "df_test = df_test.reset_index(drop=True)"
   ]
  },
  {
   "cell_type": "code",
   "execution_count": 70,
   "id": "4fb75881",
   "metadata": {},
   "outputs": [],
   "source": [
    "y_train = df_train.converted.values\n",
    "y_val = df_val.converted.values\n",
    "y_test = df_test.converted.values\n",
    "\n",
    "del df_train['converted']\n",
    "del df_val['converted']\n",
    "del df_test['converted']"
   ]
  },
  {
   "cell_type": "code",
   "execution_count": 30,
   "id": "d8b95852",
   "metadata": {},
   "outputs": [],
   "source": [
    "from sklearn.metrics import mutual_info_score"
   ]
  },
  {
   "cell_type": "code",
   "execution_count": 31,
   "id": "b5363d21",
   "metadata": {},
   "outputs": [
    {
     "data": {
      "text/plain": [
       "Index(['lead_source', 'industry', 'employment_status', 'location'], dtype='object')"
      ]
     },
     "execution_count": 31,
     "metadata": {},
     "output_type": "execute_result"
    }
   ],
   "source": [
    "categorical"
   ]
  },
  {
   "cell_type": "code",
   "execution_count": 36,
   "id": "212bd9a1",
   "metadata": {},
   "outputs": [
    {
     "name": "stdout",
     "output_type": "stream",
     "text": [
      "0.08423850861292825\n",
      "0.011574521435657112\n",
      "0.012937677269442782\n",
      "0.004464157884038034\n"
     ]
    },
    {
     "name": "stderr",
     "output_type": "stream",
     "text": [
      "C:\\Users\\daniel.otulagun\\AppData\\Local\\Packages\\PythonSoftwareFoundation.Python.3.11_qbz5n2kfra8p0\\LocalCache\\local-packages\\Python311\\site-packages\\sklearn\\metrics\\cluster\\_supervised.py:59: UserWarning: Clustering metrics expects discrete values but received binary values for label, and continuous values for target\n",
      "  warnings.warn(msg, UserWarning)\n"
     ]
    }
   ],
   "source": [
    "print(mutual_info_score(y_train, df_train.lead_score))\n",
    "print(mutual_info_score(y_train, df_train.industry))\n",
    "print(mutual_info_score(y_train, df_train.employment_status))\n",
    "print(mutual_info_score(y_train, df_train.location))"
   ]
  },
  {
   "cell_type": "code",
   "execution_count": 37,
   "id": "b9c82804",
   "metadata": {},
   "outputs": [],
   "source": [
    "from sklearn.feature_extraction import DictVectorizer"
   ]
  },
  {
   "cell_type": "code",
   "execution_count": 71,
   "id": "21cfefea",
   "metadata": {},
   "outputs": [],
   "source": [
    "numerical = numerical.drop('converted')\n"
   ]
  },
  {
   "cell_type": "code",
   "execution_count": 48,
   "id": "6865846f",
   "metadata": {},
   "outputs": [
    {
     "data": {
      "text/plain": [
       "Index(['number_of_courses_viewed', 'annual_income', 'interaction_count',\n",
       "       'lead_score'],\n",
       "      dtype='object')"
      ]
     },
     "execution_count": 48,
     "metadata": {},
     "output_type": "execute_result"
    }
   ],
   "source": [
    "numerical"
   ]
  },
  {
   "cell_type": "code",
   "execution_count": 58,
   "id": "239fb96f",
   "metadata": {},
   "outputs": [
    {
     "data": {
      "text/plain": [
       "['lead_source', 'industry', 'employment_status', 'location']"
      ]
     },
     "execution_count": 58,
     "metadata": {},
     "output_type": "execute_result"
    }
   ],
   "source": [
    "categorical.tolist()"
   ]
  },
  {
   "cell_type": "code",
   "execution_count": 72,
   "id": "b4855e56",
   "metadata": {},
   "outputs": [],
   "source": [
    "dv = DictVectorizer(sparse=False)\n",
    "\n",
    "train_dict = df_train[categorical.tolist() + numerical.tolist()].to_dict(orient='records')\n",
    "X_train = dv.fit_transform(train_dict)\n",
    "\n",
    "val_dict = df_val[categorical.tolist() + numerical.tolist()].to_dict(orient='records')\n",
    "X_val = dv.transform(val_dict)"
   ]
  },
  {
   "cell_type": "code",
   "execution_count": 64,
   "id": "6285ed54",
   "metadata": {},
   "outputs": [],
   "source": [
    "from sklearn.linear_model import LogisticRegression"
   ]
  },
  {
   "cell_type": "code",
   "execution_count": 78,
   "id": "03bbfd99",
   "metadata": {},
   "outputs": [
    {
     "name": "stdout",
     "output_type": "stream",
     "text": [
      "0.6996587030716723\n"
     ]
    }
   ],
   "source": [
    "from sklearn.metrics import accuracy_score\n",
    "\n",
    "\n",
    "model = LogisticRegression(solver='liblinear', C=1.0, max_iter=1000, random_state=42)\n",
    "model.fit(X_train, y_train)\n",
    "\n",
    "y_pred_val = model.predict_proba(X_val)[:, 1]\n",
    "y_pred = (y_pred_val >= 0.5).astype(int)\n",
    "\n",
    "accuracy_dv = accuracy_score(y_val, y_pred)\n",
    "print(accuracy_dv)\n"
   ]
  },
  {
   "cell_type": "code",
   "execution_count": null,
   "id": "e2207475",
   "metadata": {},
   "outputs": [],
   "source": [
    "sorted(zip(dv.get_feature_names_out(), model.coef_[0]), key=lambda x: abs(x[1]), reverse=True)"
   ]
  },
  {
   "cell_type": "code",
   "execution_count": 89,
   "id": "fe917904",
   "metadata": {},
   "outputs": [
    {
     "name": "stdout",
     "output_type": "stream",
     "text": [
      "C=0.01: 0.6996587030716723\n",
      "C=0.1: 0.6996587030716723\n",
      "C=1: 0.6996587030716723\n",
      "C=10: 0.6996587030716723\n",
      "C=100: 0.6996587030716723\n"
     ]
    }
   ],
   "source": [
    "for i in [0.01, 0.1, 1, 10, 100]:\n",
    "    model = LogisticRegression(solver='liblinear', C=i, max_iter=1000, random_state=42)\n",
    "    model.fit(X_train, y_train)\n",
    "    y_pred_val = model.predict_proba(X_val)[:, 1]\n",
    "    y_pred = (y_pred_val >= 0.5).astype(int)\n",
    "    accuracy_dv = accuracy_score(y_val, y_pred)\n",
    "    print(f\"C={i}: {accuracy_dv}\")"
   ]
  }
 ],
 "metadata": {
  "kernelspec": {
   "display_name": "Python 3",
   "language": "python",
   "name": "python3"
  },
  "language_info": {
   "codemirror_mode": {
    "name": "ipython",
    "version": 3
   },
   "file_extension": ".py",
   "mimetype": "text/x-python",
   "name": "python",
   "nbconvert_exporter": "python",
   "pygments_lexer": "ipython3",
   "version": "3.11.9"
  }
 },
 "nbformat": 4,
 "nbformat_minor": 5
}
